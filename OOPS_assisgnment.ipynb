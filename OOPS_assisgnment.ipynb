{
  "nbformat": 4,
  "nbformat_minor": 0,
  "metadata": {
    "colab": {
      "provenance": []
    },
    "kernelspec": {
      "name": "python3",
      "display_name": "Python 3"
    },
    "language_info": {
      "name": "python"
    }
  },
  "cells": [
    {
      "cell_type": "markdown",
      "source": [
        "# Python OOPs questions :"
      ],
      "metadata": {
        "id": "E8cTLK2pSX4N"
      }
    },
    {
      "cell_type": "markdown",
      "source": [
        "##1.What is Object-Oriented Programming (OOP)?\n",
        "  - Object-Oriented Programming (OOP) is a programming system centered around the concept of \"objects\". These objects encapsulate data (attributes) and behavior (methods) related to that data.\n"
      ],
      "metadata": {
        "id": "cs1_NJsNSibI"
      }
    },
    {
      "cell_type": "code",
      "source": [
        "class Animal:\n",
        "    def speak(self):\n",
        "        print(\"Animal speaks\")\n",
        "class Dog(Animal):\n",
        "    def speak(self):\n",
        "        print(\"Dog barks\")\n",
        "a = Animal()\n",
        "d = Dog()\n",
        "a.speak()\n"
      ],
      "metadata": {
        "colab": {
          "base_uri": "https://localhost:8080/"
        },
        "id": "b-q-U48vU3RH",
        "outputId": "2ae57326-0868-4d8b-8591-bd5209a5186a"
      },
      "execution_count": 1,
      "outputs": [
        {
          "output_type": "stream",
          "name": "stdout",
          "text": [
            "Animal speaks\n"
          ]
        }
      ]
    },
    {
      "cell_type": "markdown",
      "source": [],
      "metadata": {
        "id": "MM7uyZtyWSMh"
      }
    },
    {
      "cell_type": "markdown",
      "source": [
        "##2. What is a class in OOP?\n",
        "  - A blueprint for creating objects. It defines attributes and methods that the objects created from the class will have."
      ],
      "metadata": {
        "id": "Od-wD1NfVHDu"
      }
    },
    {
      "cell_type": "markdown",
      "source": [
        "##3.What is an object in OOP?\n",
        "  - An instance of a class. It represents a specific implementation of the class with actual values"
      ],
      "metadata": {
        "id": "zytWIuDjVYW8"
      }
    },
    {
      "cell_type": "markdown",
      "source": [
        "##4.What is the difference between abstraction and encapsulation?\n",
        "  -  Abstraction: it focuses on Hiding complexity by showing only essential features.Example: Think of a car — you use the steering wheel to turn, but you don’t need to know how the steering mechanism works internally.\n",
        "  - Encapsulation:it focuses on Hiding data to protect it from outside interference.Example: You can't directly access the engine of a car while driving — only through the controls provided."
      ],
      "metadata": {
        "id": "1VXJExzNVoCf"
      }
    },
    {
      "cell_type": "markdown",
      "source": [
        "##5.What are dunder methods in Python?\n",
        "  - Dunder/magic/special methods are the methods defined by built-in classess in Python are predefined methods with names that start and end with double underscores, like __init__, __str__, or __add__.\n",
        "\n",
        "They allow you to define how your objects behave with built-in Python operations like printing, adding, comparing, etc.\n",
        "\n"
      ],
      "metadata": {
        "id": "4EzMTu3XWiw6"
      }
    },
    {
      "cell_type": "markdown",
      "source": [
        "##6. Explain the concept of inheritance in OOP.\n",
        "  - Inheritance in Object-Oriented Programming (OOP) is a mechanism that allows a class (child or subclass) to inherit properties and behaviors (methods and attributes) from another class (parent or superclass).\n",
        "  - Types of Inheritance:\n",
        "\n",
        "      1.Single Inheritance – One child class inherits from one parent class.\n",
        "\n",
        "      2.Multiple Inheritance – A child class inherits from multiple parent classes.\n",
        "\n",
        "      3.Multilevel Inheritance – A class inherits from a child class which itself inherits from another class.\n",
        "\n",
        "      4.Hierarchical Inheritance – Multiple child classes inherit from a single parent class.\n",
        "      \n",
        "      5.Hybrid inheritance:consists of multiple types or diffrent combinations of inheritance"
      ],
      "metadata": {
        "id": "-sawoVZ-XImd"
      }
    },
    {
      "cell_type": "markdown",
      "source": [
        "##7. What is polymorphism in OOP?\n",
        "  - Polymorphism in Object-Oriented Programming (OOP) refers to the ability of different objects to respond to the same method or function call in a way that's specific to their own class."
      ],
      "metadata": {
        "id": "8ELZY6wRY6N7"
      }
    },
    {
      "cell_type": "markdown",
      "source": [
        "##8. How is encapsulation achieved in Python?\n",
        "  - Encapsulation in Python is achieved by restricting direct access to class attributes and controlling it through methods, which helps protect the internal state of an object."
      ],
      "metadata": {
        "id": "qydG-vWpZJWR"
      }
    },
    {
      "cell_type": "markdown",
      "source": [
        "##9.What is a constructor in Python?\n",
        "  - a constructor is a special method used to initialize a newly created object from a class. It's called automatically when you create an instance of a class.\n",
        "\n"
      ],
      "metadata": {
        "id": "6WpVB36gnxap"
      }
    },
    {
      "cell_type": "code",
      "source": [
        "class Person:\n",
        "    def __init__(self, name, age):  # Constructor\n",
        "        self.name = name\n",
        "        self.age = age\n",
        "# Creating an object\n",
        "p = Person(\"Alice\", 30)\n",
        "print(p.name)"
      ],
      "metadata": {
        "colab": {
          "base_uri": "https://localhost:8080/"
        },
        "id": "Y-zQMr8OoBoq",
        "outputId": "e0fe345b-5347-4f13-a50c-a57787bc83f4"
      },
      "execution_count": 2,
      "outputs": [
        {
          "output_type": "stream",
          "name": "stdout",
          "text": [
            "Alice\n"
          ]
        }
      ]
    },
    {
      "cell_type": "code",
      "source": [
        "print(p.age)"
      ],
      "metadata": {
        "colab": {
          "base_uri": "https://localhost:8080/"
        },
        "id": "nTddUyJgoKrA",
        "outputId": "c645c0b1-da6d-4ad6-82bc-e9dbee99634b"
      },
      "execution_count": 3,
      "outputs": [
        {
          "output_type": "stream",
          "name": "stdout",
          "text": [
            "30\n"
          ]
        }
      ]
    },
    {
      "cell_type": "markdown",
      "source": [
        "##10.What are class and static methods in Python?\n",
        "  - Class Methods:  \n",
        "      1.Bound to the class, not the instance.\n",
        "\n",
        "      2.Receives the class itself as the first argument (conventionally named cls).\n",
        "\n",
        "      3.Used to access or modify class-level data, or provide alternate constructors.\n",
        "  - Static Methods:\n",
        "\n",
        "   1.Not bound to the instance or the class.\n",
        "\n",
        "   2.Behaves like a regular function inside a class's namespace.\n",
        "\n",
        "   3.Doesn’t access or modify instance or class-level data.\n",
        "\n",
        "   4.Used when you want grouping of utility functions logically inside a class.    "
      ],
      "metadata": {
        "id": "gQEFeyVDoW4i"
      }
    },
    {
      "cell_type": "markdown",
      "source": [
        "##11.What is method overloading in Python?\n",
        "  -  Method overloading is the ability to define multiple methods with the same name but with different parameters (number or type) so that the correct one is called based on how it's used."
      ],
      "metadata": {
        "id": "uK5djZyLplyg"
      }
    },
    {
      "cell_type": "markdown",
      "source": [
        "##12.What is method overriding in OOP?\n",
        "  - Method overloading is the ability to define multiple methods with the same name but with different parameters (number or type) so that the correct one is called based on how it's used."
      ],
      "metadata": {
        "id": "v12hKSxFqmSM"
      }
    },
    {
      "cell_type": "markdown",
      "source": [
        "##13.What is a property decorator in Python?\n",
        "  -  The property decorator in Python is a built-in way to define methods that behave like attributes, allowing controlled access to an object's data while keeping the syntax clean.\n",
        "\n"
      ],
      "metadata": {
        "id": "ekebV67XrNq_"
      }
    },
    {
      "cell_type": "markdown",
      "source": [
        "##14.Why is polymorphism important in OOP?\n",
        "  - Polymorphism is important in Object-Oriented Programming (OOP) because it allows objects of different classes to be treated as objects of a common superclass, typically through interfaces or inheritance. This enables flexibility, extensibility, and maintainability in code. Here are key reasons why polymorphism matters Code Reusability , Scalability , Decoupling , Cleaner Code\n"
      ],
      "metadata": {
        "id": "UN8iD4x5rfxU"
      }
    },
    {
      "cell_type": "markdown",
      "source": [
        "##15.What is an abstract class in Python?\n",
        "  - An abstract class in Python is a class that cannot be instantiated on its own and is meant to be a blueprint for other classes. It can define abstract methods, which are methods that must be implemented by any subclass. Abstract classes are used to enforce a certain structure in subclasses, ensuring consistency across implementations."
      ],
      "metadata": {
        "id": "REdri7Kvsl3z"
      }
    },
    {
      "cell_type": "markdown",
      "source": [
        "##16.What are the advantages of OOP?\n",
        "  1. Modularity :\n",
        "Code is organized into discrete classes and objects.\n",
        "\n",
        "Each class handles a specific task, making the system easier to understand and debug.\n",
        "\n",
        "  2. Reusability:\n",
        "Through inheritance, a new class can reuse properties and methods from an existing class.\n",
        "\n",
        "Reduces redundancy and promotes code reuse across projects.\n",
        "\n",
        " 3. Maintainability :\n",
        "Encapsulation keeps code isolated within classes, so changes in one class have minimal impact on others.\n",
        "\n",
        "Easier to update and scale large systems.\n",
        "\n",
        " 4. Encapsulation :\n",
        "Internal object details are hidden from the outside world.\n",
        "\n",
        "Protects object state by controlling access through methods (getters/setters).\n",
        "\n",
        " 5. Polymorphism :\n",
        "A common interface can represent multiple types of behavior.\n",
        "\n",
        "For example, different subclasses can implement the same method in different ways, making code more flexible and extensible.\n",
        "\n",
        " 6. Abstraction :\n",
        "Simplifies complex systems by exposing only necessary components and hiding implementation details.\n",
        "\n",
        "Encourages thinking in terms of \"what an object does\" rather than \"how it does it.\"\n",
        "\n",
        " 7. Improved Collaboration :\n",
        "Teams can work on different classes or modules independently, improving productivity and parallel development."
      ],
      "metadata": {
        "id": "5zFtdiN8s3oW"
      }
    },
    {
      "cell_type": "markdown",
      "source": [
        "##17. What is the difference between a class variable and an instance variable?\n",
        "  -  Class Variable :\n",
        "Shared across all instances of a class.\n",
        "Defined directly inside the class, outside any instance methods.\n",
        "Changing it from the class affects all instances.\n",
        "\n",
        "Instance Variable :\n",
        "Unique to each individual instance.\n",
        "Defined using self. inside methods like __init__().\n",
        "Stores data specific to that object.\n"
      ],
      "metadata": {
        "id": "JfgsScbZtwYF"
      }
    },
    {
      "cell_type": "markdown",
      "source": [
        "##18. What is multiple inheritance in Python?\n",
        "  - Multiple inheritance in Python is a feature that allows a class to inherit from more than one parent class. This means that a subclass can inherit attributes and methods from multiple classes, enabling more flexibility and code reuse."
      ],
      "metadata": {
        "id": "d1j1l_qAucKt"
      }
    },
    {
      "cell_type": "markdown",
      "source": [
        "##19. Explain the purpose of ‘’__str__’ and ‘__repr__’ ‘ methods in Python.\n",
        "  - The __str__ method is intended to provide a user-friendly or informal string representation of an object.\n",
        "  - The __repr__ method is intended to provide a developer-friendly or formal string representation of an object."
      ],
      "metadata": {
        "id": "47ZZKYjxu3OV"
      }
    },
    {
      "cell_type": "markdown",
      "source": [
        "##20. What is the significance of the ‘super()’ function in Python?\n",
        "  -  Calling Parent Class Methods:\n",
        "super() allows you to call a method from a parent class inside a subclass, without explicitly naming the parent class.\n",
        "  - Multiple Inheritance:\n",
        "In multiple inheritance scenarios, super() follows the Method Resolution Order (MRO), which helps to resolve which class's method should be called when multiple parent classes are involved.\n",
        "  - Maintainability:\n",
        "By using super(), you don’t have to hard-code the parent class name, making the code more maintainable and less prone to errors."
      ],
      "metadata": {
        "id": "e_2uHUkUvU4h"
      }
    },
    {
      "cell_type": "markdown",
      "source": [
        "##21. What is the significance of the __del__ method in Python?\n",
        "  -  The __del__ method is primarily used to release resources that the object might have acquired during its lifetime, such as closing files, network connections, database connections, or releasing any external resources."
      ],
      "metadata": {
        "id": "S21bqAEAwA5a"
      }
    },
    {
      "cell_type": "markdown",
      "source": [
        "##22.What is the difference between @staticmethod and @classmethod in Python?\n",
        "  -  in Python, both @staticmethod and @classmethod are used to define methods that are not bound to an instance of the class (i.e., they don’t require access to instance attributes via self). However, they have key differences in how they interact with the class and what kind of arguments they take."
      ],
      "metadata": {
        "id": "xJDH8CM9wUg1"
      }
    },
    {
      "cell_type": "markdown",
      "source": [
        "##23. How does polymorphism work in Python with inheritance?\n",
        "  - In Python, polymorphism works hand-in-hand with inheritance:\n",
        "\n",
        "  Inheritance allows a subclass to inherit methods and attributes from a superclass.\n",
        "Polymorphism allows a subclass to provide a specific implementation of a method that was inherited from the superclass."
      ],
      "metadata": {
        "id": "2WCU4S8xwoaM"
      }
    },
    {
      "cell_type": "markdown",
      "source": [
        "##24.What is method chaining in Python OOP?\n",
        "  -  Method chaining in Python Object-Oriented Programming (OOP) is a technique where multiple methods are called on the same object in a single line of code. Each method in the chain returns the object itself (or another object of the same class), allowing you to \"chain\" multiple method calls together. This pattern is commonly used to simplify code and make it more readable, especially when performing multiple operations on the same object."
      ],
      "metadata": {
        "id": "6gTmvZnHx-Mc"
      }
    },
    {
      "cell_type": "markdown",
      "source": [
        "##25.What is the purpose of the __call__ method in Python?\n",
        "  -  The __call__ method in Python is a special (magic) method that allows an instance of a class to be called like a function. In other words, when you define a __call__ method in a class, you can make instances of that class behave as if they were functions. This means you can invoke an instance of the class using parentheses, just like a regular function call."
      ],
      "metadata": {
        "id": "thxHzMkay6ff"
      }
    },
    {
      "cell_type": "markdown",
      "source": [
        "#Practical questions:"
      ],
      "metadata": {
        "id": "jMr9-A7wzsPd"
      }
    },
    {
      "cell_type": "markdown",
      "source": [
        "##1. Create a parent class Animal with a method speak() that prints a generic message. Create a child class Dog that overrides the speak() method to print \"Bark!\"."
      ],
      "metadata": {
        "id": "X4NhVeJ6zz-4"
      }
    },
    {
      "cell_type": "code",
      "source": [
        "class Animal:\n",
        "    def speak(self):\n",
        "        print(\"This animal makes a sound.\")\n",
        "class Dog(Animal):\n",
        "    def speak(self):\n",
        "        print(\"Bark!\")\n",
        "dog = Dog()\n",
        "dog.speak()"
      ],
      "metadata": {
        "colab": {
          "base_uri": "https://localhost:8080/"
        },
        "id": "xo2-GvlKz923",
        "outputId": "2cd7677a-a764-4944-d257-b642d077c851"
      },
      "execution_count": 5,
      "outputs": [
        {
          "output_type": "stream",
          "name": "stdout",
          "text": [
            "Bark!\n"
          ]
        }
      ]
    },
    {
      "cell_type": "markdown",
      "source": [
        "##2. Write a program to create an abstract class Shape with a method area(). Derive classes Circle and Rectangle from it and implement the area() method in both."
      ],
      "metadata": {
        "id": "wtIO7yVW2D_i"
      }
    },
    {
      "cell_type": "code",
      "source": [
        "from abc import ABC, abstractmethod\n",
        "import math\n",
        "\n",
        "# Abstract base class\n",
        "class Shape(ABC):\n",
        "    @abstractmethod\n",
        "    def area(self):\n",
        "        \"\"\"Calculate area of the shape\"\"\"\n",
        "        pass\n",
        "\n",
        "# Circle class derived from Shape\n",
        "class Circle(Shape):\n",
        "    def __init__(self, radius):\n",
        "        self.radius = radius\n",
        "\n",
        "    def area(self):\n",
        "        return math.pi * self.radius ** 2\n",
        "\n",
        "# Rectangle class derived from Shape\n",
        "class Rectangle(Shape):\n",
        "    def __init__(self, width, height):\n",
        "        self.width = width\n",
        "        self.height = height\n",
        "\n",
        "    def area(self):\n",
        "        return self.width * self.height\n",
        "\n",
        "# Example usage\n",
        "circle = Circle(3)\n",
        "rectangle = Rectangle(4, 5)\n",
        "\n",
        "print(\"Area of circle:\", circle.area())\n",
        "print(\"Area of rectangle:\", rectangle.area())\n"
      ],
      "metadata": {
        "colab": {
          "base_uri": "https://localhost:8080/"
        },
        "id": "G9PEAQnV2Mgf",
        "outputId": "bf95e51b-ab45-47ff-de44-cd74c8755541"
      },
      "execution_count": 6,
      "outputs": [
        {
          "output_type": "stream",
          "name": "stdout",
          "text": [
            "Area of circle: 28.274333882308138\n",
            "Area of rectangle: 20\n"
          ]
        }
      ]
    },
    {
      "cell_type": "markdown",
      "source": [
        "##3. Implement a multi-level inheritance scenario where a class Vehicle has an attribute type. Derive a class Car and further derive a class ElectricCar that adds a battery attribute"
      ],
      "metadata": {
        "id": "gj6mpiAm4yHA"
      }
    },
    {
      "cell_type": "code",
      "source": [
        "# Base class\n",
        "class Vehicle:\n",
        "    def __init__(self, vehicle_type):\n",
        "        self.type = vehicle_type\n",
        "\n",
        "# First-level derived class\n",
        "class Car(Vehicle):\n",
        "    def __init__(self, vehicle_type, brand):\n",
        "        super().__init__(vehicle_type)\n",
        "        self.brand = brand\n",
        "\n",
        "# Second-level derived class\n",
        "class ElectricCar(Car):\n",
        "    def __init__(self, vehicle_type, brand, battery_capacity):\n",
        "        super().__init__(vehicle_type, brand)\n",
        "        self.battery = battery_capacity\n",
        "\n",
        "    def display_info(self):\n",
        "        print(f\"Type: {self.type}\")\n",
        "        print(f\"Brand: {self.brand}\")\n",
        "        print(f\"Battery Capacity: {self.battery} kWh\")\n",
        "\n",
        "# Example usage\n",
        "tesla = ElectricCar(\"Electric\", \"Tesla Model S\", 100)\n",
        "tesla.display_info()"
      ],
      "metadata": {
        "colab": {
          "base_uri": "https://localhost:8080/"
        },
        "id": "u7XTaKTS5EhG",
        "outputId": "a331f9c5-0955-459c-e0ee-0fa6b119f169"
      },
      "execution_count": 7,
      "outputs": [
        {
          "output_type": "stream",
          "name": "stdout",
          "text": [
            "Type: Electric\n",
            "Brand: Tesla Model S\n",
            "Battery Capacity: 100 kWh\n"
          ]
        }
      ]
    },
    {
      "cell_type": "markdown",
      "source": [
        "##4. Demonstrate polymorphism by creating a base class Bird with a method fly(). Create two derived classes Sparrow and Penguin that override the fly() method.\n"
      ],
      "metadata": {
        "id": "wvUWgJw25Ka_"
      }
    },
    {
      "cell_type": "code",
      "source": [
        "# Base class\n",
        "class Bird:\n",
        "    def fly(self):\n",
        "        print(\"Bird is flying\")\n",
        "\n",
        "# Derived class Sparrow\n",
        "class Sparrow(Bird):\n",
        "    def fly(self):\n",
        "        print(\"Sparrow can fly high in the sky!\")\n",
        "\n",
        "# Derived class Penguin\n",
        "class Penguin(Bird):\n",
        "    def fly(self):\n",
        "        print(\"Penguins cannot fly, they swim!\")\n",
        "\n",
        "# Polymorphic function\n",
        "def bird_flight(bird):\n",
        "    bird.fly()  # Calls the appropriate fly() method based on the object's class\n",
        "\n",
        "# Example usage\n",
        "birds = [Sparrow(), Penguin()]\n",
        "\n",
        "for b in birds:\n",
        "    bird_flight(b)"
      ],
      "metadata": {
        "colab": {
          "base_uri": "https://localhost:8080/"
        },
        "id": "IQeZnBm75VRA",
        "outputId": "bd3a7ea6-2c93-4273-d1cc-a98371ace136"
      },
      "execution_count": 8,
      "outputs": [
        {
          "output_type": "stream",
          "name": "stdout",
          "text": [
            "Sparrow can fly high in the sky!\n",
            "Penguins cannot fly, they swim!\n"
          ]
        }
      ]
    },
    {
      "cell_type": "markdown",
      "source": [
        "##5. Write a program to demonstrate encapsulation by creating a class BankAccount with private attributes balance and methods to deposit, withdraw, and check balance."
      ],
      "metadata": {
        "id": "qusNFHQ05XwM"
      }
    },
    {
      "cell_type": "code",
      "source": [
        "class BankAccount:\n",
        "    def __init__(self, initial_balance=0):\n",
        "        self.__balance = initial_balance\n",
        "    def deposit(self, amount):\n",
        "        if amount > 0:\n",
        "            self.__balance += amount\n",
        "            print(f\"Deposited: ${amount}\")\n",
        "        else:\n",
        "            print(\"Deposit amount must be positive.\")\n",
        "    def withdraw(self, amount):\n",
        "        if 0 < amount <= self.__balance:\n",
        "            self.__balance -= amount\n",
        "            print(f\"Withdrawn: ${amount}\")\n",
        "        else:\n",
        "            print(\"Invalid withdrawal amount or insufficient balance.\")\n",
        "    def check_balance(self):\n",
        "        print(f\"Current balance: ${self.__balance}\")\n",
        "account = BankAccount(100)\n",
        "account.check_balance()\n",
        "account.deposit(50)\n",
        "account.withdraw(30)\n",
        "account.check_balance()"
      ],
      "metadata": {
        "colab": {
          "base_uri": "https://localhost:8080/"
        },
        "id": "LbOAPNba5fRr",
        "outputId": "a7441e43-5b16-4526-dc62-e31f6c8498ef"
      },
      "execution_count": 9,
      "outputs": [
        {
          "output_type": "stream",
          "name": "stdout",
          "text": [
            "Current balance: $100\n",
            "Deposited: $50\n",
            "Withdrawn: $30\n",
            "Current balance: $120\n"
          ]
        }
      ]
    },
    {
      "cell_type": "markdown",
      "source": [
        "##6. . Demonstrate runtime polymorphism using a method play() in a base class Instrument. Derive classes Guitar and Piano that implement their own version of play()."
      ],
      "metadata": {
        "id": "lfKenU_t57cJ"
      }
    },
    {
      "cell_type": "code",
      "source": [
        "# Base class\n",
        "class Instrument:\n",
        "    def play(self):\n",
        "        print(\"Playing an instrument\")\n",
        "# Derived class Guitar\n",
        "class Guitar(Instrument):\n",
        "    def play(self):\n",
        "        print(\"Strumming the guitar!\")\n",
        "# Derived class Piano\n",
        "class Piano(Instrument):\n",
        "    def play(self):\n",
        "        print(\"Playing the piano keys!\")\n",
        "# Polymorphic function\n",
        "def start_playing(instrument):\n",
        "    instrument.play()  # Calls the appropriate play() method at runtime\n",
        "# Example usage\n",
        "instruments = [Guitar(), Piano()]\n",
        "for inst in instruments:\n",
        "    start_playing(inst)"
      ],
      "metadata": {
        "colab": {
          "base_uri": "https://localhost:8080/"
        },
        "id": "Fsw5lXkt6YeK",
        "outputId": "82fa44dc-d6d3-4e1b-ea4d-c9c634aa93f2"
      },
      "execution_count": 10,
      "outputs": [
        {
          "output_type": "stream",
          "name": "stdout",
          "text": [
            "Strumming the guitar!\n",
            "Playing the piano keys!\n"
          ]
        }
      ]
    },
    {
      "cell_type": "markdown",
      "source": [
        "##7. Create a class MathOperations with a class method add_numbers() to add two numbers and a static method subtract_numbers() to subtract two numbers."
      ],
      "metadata": {
        "id": "oFmYRNmr6igl"
      }
    },
    {
      "cell_type": "code",
      "source": [
        "class MathOperations:\n",
        "\n",
        "    @classmethod\n",
        "    def add_numbers(cls, a, b):\n",
        "        \"\"\"Class method to add two numbers.\"\"\"\n",
        "        return a + b\n",
        "    @staticmethod\n",
        "    def subtract_numbers(a, b):\n",
        "        \"\"\"Static method to subtract two numbers.\"\"\"\n",
        "        return a - b\n",
        "\n",
        "# Example usage\n",
        "sum_result = MathOperations.add_numbers(7, 3)\n",
        "difference_result = MathOperations.subtract_numbers(10, 4)\n",
        "print(\"Sum:\", sum_result)\n",
        "print(\"Difference:\", difference_result)"
      ],
      "metadata": {
        "colab": {
          "base_uri": "https://localhost:8080/"
        },
        "id": "c8JFgu-O7yI8",
        "outputId": "42663df1-4782-4992-fc69-b9b7b3689634"
      },
      "execution_count": 12,
      "outputs": [
        {
          "output_type": "stream",
          "name": "stdout",
          "text": [
            "Sum: 10\n",
            "Difference: 6\n"
          ]
        }
      ]
    },
    {
      "cell_type": "markdown",
      "source": [
        "##8. Implement a class Person with a class method to count the total number of persons created."
      ],
      "metadata": {
        "id": "qVKLmqgq744W"
      }
    },
    {
      "cell_type": "code",
      "source": [
        "class Person:\n",
        "    count = 0\n",
        "    def __init__(self, name):\n",
        "        self.name = name\n",
        "        Person.count += 1\n",
        "    @classmethod\n",
        "    def total_persons(cls):\n",
        "        return cls.count\n",
        "\n",
        "# Example usage\n",
        "p1 = Person(\"Alice\")\n",
        "p2 = Person(\"Bob\")\n",
        "p3 = Person(\"Charlie\")\n",
        "\n",
        "print(\"Total persons created:\", Person.total_persons())\n"
      ],
      "metadata": {
        "colab": {
          "base_uri": "https://localhost:8080/"
        },
        "id": "DYQYcT0g8C8F",
        "outputId": "daa51314-36b5-44e1-9cef-4b46c9e27858"
      },
      "execution_count": 13,
      "outputs": [
        {
          "output_type": "stream",
          "name": "stdout",
          "text": [
            "Total persons created: 3\n"
          ]
        }
      ]
    },
    {
      "cell_type": "markdown",
      "source": [
        "##9. Write a class Fraction with attributes numerator and denominator. Override the str method to display the fraction as \"numerator/denominator\"."
      ],
      "metadata": {
        "id": "1aZtbTgS8SeD"
      }
    },
    {
      "cell_type": "code",
      "source": [
        "class Fraction:\n",
        "    def __init__(self, numerator, denominator):\n",
        "        if denominator == 0:\n",
        "            raise ValueError(\"Denominator cannot be zero.\")\n",
        "        self.numerator = numerator\n",
        "        self.denominator = denominator\n",
        "\n",
        "    def __str__(self):\n",
        "        return f\"{self.numerator}/{self.denominator}\"\n",
        "f = Fraction(3, 4)\n",
        "print(f)\n"
      ],
      "metadata": {
        "colab": {
          "base_uri": "https://localhost:8080/"
        },
        "id": "x-pWCVf98q1t",
        "outputId": "2d0aaec0-364f-43b2-8c55-eb7513ff9e57"
      },
      "execution_count": 16,
      "outputs": [
        {
          "output_type": "stream",
          "name": "stdout",
          "text": [
            "3/4\n"
          ]
        }
      ]
    },
    {
      "cell_type": "markdown",
      "source": [
        "##10.  Demonstrate operator overloading by creating a class Vector and overriding the add method to add two vectors."
      ],
      "metadata": {
        "id": "LlI2j3Oe8xx2"
      }
    },
    {
      "cell_type": "code",
      "source": [
        "class Vector:\n",
        "    def __init__(self, x, y):\n",
        "        self.x = x\n",
        "        self.y = y\n",
        "    def __add__(self, other):\n",
        "        # Adding corresponding components of two vectors\n",
        "        return Vector(self.x + other.x, self.y + other.y)\n",
        "    def __str__(self):\n",
        "        return f\"({self.x}, {self.y})\"\n",
        "# Example usage:\n",
        "v1 = Vector(1, 2)\n",
        "v2 = Vector(3, 4)\n",
        "result = v1 + v2\n",
        "print(f\"v1: {v1}\")\n",
        "print(f\"v2: {v2}\")\n",
        "print(f\"v1 + v2: {result}\")"
      ],
      "metadata": {
        "colab": {
          "base_uri": "https://localhost:8080/"
        },
        "id": "xR085SJR9HTO",
        "outputId": "da5e7652-7e97-4919-f659-61c286fa5fa6"
      },
      "execution_count": 17,
      "outputs": [
        {
          "output_type": "stream",
          "name": "stdout",
          "text": [
            "v1: (1, 2)\n",
            "v2: (3, 4)\n",
            "v1 + v2: (4, 6)\n"
          ]
        }
      ]
    },
    {
      "cell_type": "markdown",
      "source": [
        "##11. Create a class Person with attributes name and age. Add a method greet() that prints \"Hello, my name is {name} and I am {age} years old.\"\n",
        "\n",
        "\n"
      ],
      "metadata": {
        "id": "vIwD9r6z9Mrq"
      }
    },
    {
      "cell_type": "code",
      "source": [
        "class Person:\n",
        "    def __init__(self, name, age):\n",
        "        self.name = name\n",
        "        self.age = age\n",
        "    def greet(self):\n",
        "        print(f\"Hello, my name is {self.name} and I am {self.age} years old.\")\n",
        "person = Person(\"Alice\", 30)\n",
        "person.greet()"
      ],
      "metadata": {
        "colab": {
          "base_uri": "https://localhost:8080/"
        },
        "id": "tlc2epxP9anD",
        "outputId": "d1edc84e-8769-4d64-bc91-3ad207304e2a"
      },
      "execution_count": 18,
      "outputs": [
        {
          "output_type": "stream",
          "name": "stdout",
          "text": [
            "Hello, my name is Alice and I am 30 years old.\n"
          ]
        }
      ]
    },
    {
      "cell_type": "markdown",
      "source": [
        "##12.  Implement a class Student with attributes name and grades. Create a method average_grade() to compute the average of the grades."
      ],
      "metadata": {
        "id": "meJFSshh9g0I"
      }
    },
    {
      "cell_type": "code",
      "source": [
        "class Student:\n",
        "    def __init__(self, name, grades):\n",
        "        self.name = name\n",
        "        self.grades = grades\n",
        "    def average_grade(self):\n",
        "        if len(self.grades) == 0:\n",
        "            return 0\n",
        "        return sum(self.grades) / len(self.grades)\n",
        "student = Student(\"John\", [85, 90, 78, 92, 88])\n",
        "print(f\"Average grade of {student.name}: {student.average_grade()}\")"
      ],
      "metadata": {
        "colab": {
          "base_uri": "https://localhost:8080/"
        },
        "id": "kTH4kfR-9tMY",
        "outputId": "1211379f-36e8-47d5-ad74-8d51bb5a5560"
      },
      "execution_count": 19,
      "outputs": [
        {
          "output_type": "stream",
          "name": "stdout",
          "text": [
            "Average grade of John: 86.6\n"
          ]
        }
      ]
    },
    {
      "cell_type": "markdown",
      "source": [
        "##13. Create a class Rectangle with methods set_dimensions() to set the dimensions and area() to calculate the area."
      ],
      "metadata": {
        "id": "Rd5rJMkW90il"
      }
    },
    {
      "cell_type": "code",
      "source": [
        "class Rectangle:\n",
        "    def __init__(self):\n",
        "        self.length = 0\n",
        "        self.width = 0\n",
        "    def set_dimensions(self, length, width):\n",
        "        self.length = length\n",
        "        self.width = width\n",
        "    def area(self):\n",
        "        return self.length * self.width\n",
        "rect = Rectangle()\n",
        "rect.set_dimensions(5, 3)\n",
        "print(f\"Area of the rectangle: {rect.area()}\")"
      ],
      "metadata": {
        "colab": {
          "base_uri": "https://localhost:8080/"
        },
        "id": "wN6Czy4s9_qk",
        "outputId": "1634b8c5-d469-4dcd-93cf-4347a9b86c88"
      },
      "execution_count": 20,
      "outputs": [
        {
          "output_type": "stream",
          "name": "stdout",
          "text": [
            "Area of the rectangle: 15\n"
          ]
        }
      ]
    },
    {
      "cell_type": "markdown",
      "source": [
        "##14. Create a class Employee with a method calculate_salary() that computes the salary based on hours worked and hourly rate. Create a derived class Manager that adds a bonus to the salary"
      ],
      "metadata": {
        "id": "wog8Uahr-FS2"
      }
    },
    {
      "cell_type": "code",
      "source": [
        "class Employee:\n",
        "    def __init__(self, name, hours_worked, hourly_rate):\n",
        "        self.name = name\n",
        "        self.hours_worked = hours_worked\n",
        "        self.hourly_rate = hourly_rate\n",
        "    def calculate_salary(self):\n",
        "        return self.hours_worked * self.hourly_rate\n",
        "class Manager(Employee):\n",
        "    def __init__(self, name, hours_worked, hourly_rate, bonus):\n",
        "        super().__init__(name, hours_worked, hourly_rate)\n",
        "        self.bonus = bonus\n",
        "    def calculate_salary(self):\n",
        "        base_salary = super().calculate_salary()\n",
        "        return base_salary + self.bonus\n",
        "employee = Employee(\"John Doe\", 40, 20)\n",
        "print(f\"Employee's Salary: ${employee.calculate_salary()}\")\n",
        "manager = Manager(\"Alice Smith\", 40, 25, 500)\n",
        "print(f\"Manager's Salary: ${manager.calculate_salary()}\")"
      ],
      "metadata": {
        "colab": {
          "base_uri": "https://localhost:8080/"
        },
        "id": "sjhLO805-U4P",
        "outputId": "8060035b-8d50-4569-b66d-f37c3c091fb0"
      },
      "execution_count": 21,
      "outputs": [
        {
          "output_type": "stream",
          "name": "stdout",
          "text": [
            "Employee's Salary: $800\n",
            "Manager's Salary: $1500\n"
          ]
        }
      ]
    },
    {
      "cell_type": "markdown",
      "source": [
        "##15. Create a class Product with attributes name, price, and quantity. Implement a method total_price() that calculates the total price of the product."
      ],
      "metadata": {
        "id": "xHkrGsWj-n-i"
      }
    },
    {
      "cell_type": "code",
      "source": [
        "class Product:\n",
        "    def __init__(self, name, price, quantity):\n",
        "        self.name = name\n",
        "        self.price = price\n",
        "        self.quantity = quantity\n",
        "    def total_price(self):\n",
        "        return self.price * self.quantity\n",
        "product = Product(\"Laptop\", 1000, 3)\n",
        "print(f\"Total price of {product.name}: ${product.total_price()}\")"
      ],
      "metadata": {
        "colab": {
          "base_uri": "https://localhost:8080/"
        },
        "id": "8XXPKXCh-1OK",
        "outputId": "7764f477-0bb2-408e-bf7f-ecb6c0af80e2"
      },
      "execution_count": 22,
      "outputs": [
        {
          "output_type": "stream",
          "name": "stdout",
          "text": [
            "Total price of Laptop: $3000\n"
          ]
        }
      ]
    },
    {
      "cell_type": "markdown",
      "source": [
        "##16.Create a class Animal with an abstract method sound(). Create two derived classes Cow and Sheep that implement the sound() method."
      ],
      "metadata": {
        "id": "jtaHRx_Z-5fI"
      }
    },
    {
      "cell_type": "code",
      "source": [
        "from abc import ABC, abstractmethod\n",
        "class Animal(ABC):\n",
        "    @abstractmethod\n",
        "    def sound(self):\n",
        "        pass\n",
        "class Cow(Animal):\n",
        "    def sound(self):\n",
        "        return \"Moo\"\n",
        "class Sheep(Animal):\n",
        "    def sound(self):\n",
        "        return \"Baa\"\n",
        "cow = Cow()\n",
        "sheep = Sheep()\n",
        "print(f\"Cow says: {cow.sound()}\")\n",
        "print(f\"Sheep says: {sheep.sound()}\")"
      ],
      "metadata": {
        "colab": {
          "base_uri": "https://localhost:8080/"
        },
        "id": "OfFBofXe_C7W",
        "outputId": "f3b164d6-4df9-46de-e31a-adb93cc796cb"
      },
      "execution_count": 23,
      "outputs": [
        {
          "output_type": "stream",
          "name": "stdout",
          "text": [
            "Cow says: Moo\n",
            "Sheep says: Baa\n"
          ]
        }
      ]
    },
    {
      "cell_type": "markdown",
      "source": [
        "##17. Create a class Book with attributes title, author, and year_published. Add a method get_book_info() that returns a formatted string with the book's details."
      ],
      "metadata": {
        "id": "gigisQEa_Kr3"
      }
    },
    {
      "cell_type": "code",
      "source": [
        "class Book:\n",
        "    def __init__(self, title, author, year_published):\n",
        "        self.title = title\n",
        "        self.author = author\n",
        "        self.year_published = year_published\n",
        "    def get_book_info(self):\n",
        "        return f\"Title: {self.title}\\nAuthor: {self.author}\\nYear Published: {self.year_published}\"\n",
        "book = Book(\"To Kill a Mockingbird\", \"Harper Lee\", 1960)\n",
        "print(book.get_book_info())"
      ],
      "metadata": {
        "colab": {
          "base_uri": "https://localhost:8080/"
        },
        "id": "eJMDs3_FAtkw",
        "outputId": "3182f64f-795c-45d2-a3cd-e55bc0bae7ea"
      },
      "execution_count": 24,
      "outputs": [
        {
          "output_type": "stream",
          "name": "stdout",
          "text": [
            "Title: To Kill a Mockingbird\n",
            "Author: Harper Lee\n",
            "Year Published: 1960\n"
          ]
        }
      ]
    },
    {
      "cell_type": "markdown",
      "source": [
        "##18. Create a class House with attributes address and price. Create a derived class Mansion that adds an attribute number_of_rooms."
      ],
      "metadata": {
        "id": "CQ8UgSkjAxt_"
      }
    },
    {
      "cell_type": "code",
      "source": [
        "class House:\n",
        "    def __init__(self, address, price):\n",
        "        self.address = address\n",
        "        self.price = price\n",
        "    def get_info(self):\n",
        "        return f\"Address: {self.address}\\nPrice: ${self.price}\"\n",
        "class Mansion(House):\n",
        "    def __init__(self, address, price, number_of_rooms):\n",
        "        super().__init__(address, price)\n",
        "        self.number_of_rooms = number_of_rooms\n",
        "    def get_info(self):\n",
        "        base_info = super().get_info()\n",
        "        return f\"{base_info}\\nNumber of Rooms: {self.number_of_rooms}\"\n",
        "house = House(\"123 Main St\", 250000)\n",
        "mansion = Mansion(\"456 Luxury Ave\", 2000000, 12)\n",
        "print(\"House Info:\")\n",
        "print(house.get_info())\n",
        "print(\"\\nMansion Info:\")\n",
        "print(mansion.get_info())"
      ],
      "metadata": {
        "colab": {
          "base_uri": "https://localhost:8080/"
        },
        "id": "LWTzpR2eBHXz",
        "outputId": "f6309b93-6181-471c-c968-4455c42662e5"
      },
      "execution_count": 25,
      "outputs": [
        {
          "output_type": "stream",
          "name": "stdout",
          "text": [
            "House Info:\n",
            "Address: 123 Main St\n",
            "Price: $250000\n",
            "\n",
            "Mansion Info:\n",
            "Address: 456 Luxury Ave\n",
            "Price: $2000000\n",
            "Number of Rooms: 12\n"
          ]
        }
      ]
    }
  ]
}